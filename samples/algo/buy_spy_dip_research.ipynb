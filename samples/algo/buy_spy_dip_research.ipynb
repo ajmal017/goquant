{
 "cells": [
  {
   "cell_type": "markdown",
   "metadata": {},
   "source": [
    "# Simple buy spy dip example, this file demo how to setup backtesting and deploy algo into trading system"
   ]
  },
  {
   "cell_type": "code",
   "execution_count": 2,
   "metadata": {
    "collapsed": true
   },
   "outputs": [],
   "source": [
    "import os\n",
    "import sys\n",
    "module_path = os.path.abspath(os.path.join('..'))\n",
    "if module_path not in sys.path:\n",
    "    sys.path.append(module_path)"
   ]
  },
  {
   "cell_type": "code",
   "execution_count": 3,
   "metadata": {
    "collapsed": true
   },
   "outputs": [],
   "source": [
    "from controller.data.data import Data\n",
    "\n",
    "data = Data()"
   ]
  },
  {
   "cell_type": "markdown",
   "metadata": {},
   "source": [
    "## 1. build algo"
   ]
  },
  {
   "cell_type": "code",
   "execution_count": 4,
   "metadata": {},
   "outputs": [],
   "source": [
    "import pandas as pd\n",
    "\n",
    "from entity.order import Order\n",
    "from controller.trading.base_algo import BaseAlgo\n",
    "from util.logger import logger\n",
    "\n",
    "# SP500\n",
    "Universe = ['MMM', 'ABT', 'ABBV', 'ACN', 'ATVI', 'AYI', 'ADBE', 'AMD', 'AAP', 'AES', 'AET', 'AMG', 'AFL', 'A', 'APD', 'AKAM', 'ALK', 'ALB', 'ARE', 'ALXN', 'ALGN', 'ALLE', 'AGN', 'ADS', 'LNT', 'ALL', 'GOOGL', 'GOOG', 'MO', 'AMZN', 'AEE', 'AAL', 'AEP', 'AXP', 'AIG', 'AMT', 'AWK', 'AMP', 'ABC', 'AME', 'AMGN', 'APH', 'APC', 'ADI', 'ANDV', 'ANSS', 'ANTM', 'AON', 'AOS', 'APA', 'AIV', 'AAPL', 'AMAT', 'APTV', 'ADM', 'ARNC', 'AJG', 'AIZ', 'T', 'ADSK', 'ADP', 'AZO', 'AVB', 'AVY', 'BHGE', 'BLL', 'BAC', 'BK', 'BAX', 'BBT', 'BDX', 'BRK.B', 'BBY', 'BIIB', 'BLK', 'HRB', 'BA', 'BKNG', 'BWA', 'BXP', 'BSX', 'BHF', 'BMY', 'AVGO', 'BF.B', 'CHRW', 'CA', 'COG', 'CDNS', 'CPB', 'COF', 'CAH', 'KMX', 'CCL', 'CAT', 'CBOE', 'CBRE', 'CBS', 'CELG', 'CNC', 'CNP', 'CTL', 'CERN', 'CF', 'SCHW', 'CHTR', 'CVX', 'CMG', 'CB', 'CHD', 'CI', 'XEC', 'CINF', 'CTAS', 'CSCO', 'C', 'CFG', 'CTXS', 'CLX', 'CME', 'CMS', 'KO', 'CTSH', 'CL', 'CMCSA', 'CMA', 'CAG', 'CXO', 'COP', 'ED', 'STZ', 'COO', 'GLW', 'COST', 'COTY', 'CCI', 'CSX', 'CMI', 'CVS', 'DHI', 'DHR', 'DRI', 'DVA', 'DE', 'DAL', 'XRAY', 'DVN', 'DLR', 'DFS', 'DISCA', 'DISCK', 'DISH', 'DG', 'DLTR', 'D', 'DOV', 'DWDP', 'DPS', 'DTE', 'DRE', 'DUK', 'DXC', 'ETFC', 'EMN', 'ETN', 'EBAY', 'ECL', 'EIX', 'EW', 'EA', 'EMR', 'ETR', 'EVHC', 'EOG', 'EQT', 'EFX', 'EQIX', 'EQR', 'ESS', 'EL', 'ES', 'RE', 'EXC', 'EXPE', 'EXPD', 'ESRX', 'EXR', 'XOM', 'FFIV', 'FB', 'FAST', 'FRT', 'FDX', 'FIS', 'FITB', 'FE', 'FISV', 'FLIR', 'FLS', 'FLR', 'FMC', 'FL', 'F', 'FTV', 'FBHS', 'BEN', 'FCX', 'GPS', 'GRMN', 'IT', 'GD', 'GE', 'GGP', 'GIS', 'GM', 'GPC', 'GILD', 'GPN', 'GS', 'GT', 'GWW', 'HAL', 'HBI', 'HOG', 'HRS', 'HIG', 'HAS', 'HCA', 'HCP', 'HP', 'HSIC', 'HSY', 'HES', 'HPE', 'HLT', 'HOLX', 'HD', 'HON', 'HRL', 'HST', 'HPQ', 'HUM', 'HBAN', 'HII', 'IDXX', 'INFO', 'ITW', 'ILMN', 'IR', 'INTC', 'ICE', 'IBM', 'INCY', 'IP', 'IPG', 'IFF', 'INTU', 'ISRG', 'IVZ', 'IPGP', 'IQV', 'IRM', 'JEC', 'JBHT', 'SJM', 'JNJ', 'JCI', 'JPM', 'JNPR', 'KSU', 'K', 'KEY', 'KMB', 'KIM', 'KMI', 'KLAC', 'KSS', 'KHC', 'KR', 'LB', 'LLL', 'LH', 'LRCX', 'LEG', 'LEN', 'LUK', 'LLY', 'LNC', 'LKQ', 'LMT', 'L', 'LOW', 'LYB', 'MTB', 'MAC', 'M', 'MRO', 'MPC', 'MAR', 'MMC', 'MLM', 'MAS', 'MA', 'MAT', 'MKC', 'MCD', 'MCK', 'MDT', 'MRK', 'MET', 'MTD', 'MGM', 'KORS', 'MCHP', 'MU', 'MSFT', 'MAA', 'MHK', 'TAP', 'MDLZ', 'MON', 'MNST', 'MCO', 'MS', 'MOS', 'MSI', 'MSCI', 'MYL', 'NDAQ', 'NOV', 'NAVI', 'NKTR', 'NTAP', 'NFLX', 'NWL', 'NFX', 'NEM', 'NWSA', 'NWS', 'NEE', 'NLSN', 'NKE', 'NI', 'NBL', 'JWN', 'NSC', 'NTRS', 'NOC', 'NCLH', 'NRG', 'NUE', 'NVDA', 'ORLY', 'OXY', 'OMC', 'OKE', 'ORCL', 'PCAR', 'PKG', 'PH', 'PAYX', 'PYPL', 'PNR', 'PBCT', 'PEP', 'PKI', 'PRGO', 'PFE', 'PCG', 'PM', 'PSX', 'PNW', 'PXD', 'PNC', 'RL', 'PPG', 'PPL', 'PX', 'PFG', 'PG', 'PGR', 'PLD', 'PRU', 'PEG', 'PSA', 'PHM', 'PVH', 'QRVO', 'PWR', 'QCOM', 'DGX', 'RRC', 'RJF', 'RTN', 'O', 'RHT', 'REG', 'REGN', 'RF', 'RSG', 'RMD', 'RHI', 'ROK', 'COL', 'ROP', 'ROST', 'RCL', 'CRM', 'SBAC', 'SCG', 'SLB', 'STX', 'SEE', 'SRE', 'SHW', 'SPG', 'SWKS', 'SLG', 'SNA', 'SO', 'LUV', 'SPGI', 'SWK', 'SBUX', 'STT', 'SRCL', 'SYK', 'STI', 'SIVB', 'SYMC', 'SYF', 'SNPS', 'SYY', 'TROW', 'TTWO', 'TPR', 'TGT', 'TEL', 'FTI', 'TXN', 'TXT', 'TMO', 'TIF', 'TWX', 'TJX', 'TMK', 'TSS', 'TSCO', 'TDG', 'TRV', 'TRIP', 'FOXA', 'FOX', 'TSN', 'UDR', 'ULTA', 'USB', 'UAA', 'UA', 'UNP', 'UAL', 'UNH', 'UPS', 'URI', 'UTX', 'UHS', 'UNM', 'VFC', 'VLO', 'VAR', 'VTR', 'VRSN', 'VRSK', 'VZ', 'VRTX', 'VIAB', 'V', 'VNO', 'VMC', 'WMT', 'WBA', 'DIS', 'WM', 'WAT', 'WEC', 'WFC', 'WELL', 'WDC', 'WU', 'WRK', 'WY', 'WHR', 'WMB', 'WLTW', 'WYN', 'WYNN', 'XEL', 'XRX', 'XLNX', 'XL', 'XYL', 'YUM', 'ZBH', 'ZION', 'ZTS']  # noqa\n",
    "\n",
    "'''\n",
    "# SP100\n",
    "# python -c \"import requests; import re; print( sorted(line.split('\\\"')[1] for line in re.findall('\\[\\\"[A-Z]+\\\",', requests.get('http://www.nasdaq.com/quotes/nasdaq-100-stocks.aspx').text)))\"\n",
    "Universe = ['AAL', 'AAPL', 'ADBE', 'ADI', 'ADP', 'ADSK', 'ALGN', 'ALXN', 'AMAT', 'AMGN', 'AMZN', 'ASML', 'ATVI', 'AVGO', 'BIDU', 'BIIB', 'BKNG', 'BMRN', 'CA', 'CDNS', 'CELG', 'CERN', 'CHKP', 'CHTR', 'CMCSA', 'COST', 'CSCO', 'CSX', 'CTAS', 'CTRP', 'CTSH', 'CTXS', 'DISH', 'DLTR', 'EA', 'EBAY', 'ESRX', 'EXPE', 'FAST', 'FB', 'FISV', 'FOX', 'FOXA', 'GILD', 'GOOG', 'GOOGL', 'HAS', 'HOLX', 'HSIC', 'IDXX', 'ILMN', 'INCY', 'INTC', 'INTU', 'ISRG', 'JBHT', 'JD', 'KHC', 'KLAC', 'LBTYA', 'LBTYK', 'LRCX', 'MAR', 'MCHP', 'MDLZ', 'MELI', 'MNST', 'MSFT', 'MU', 'MXIM', 'MYL', 'NFLX', 'NTES', 'NVDA', 'ORLY', 'PAYX', 'PCAR', 'PYPL', 'QCOM', 'QRTEA', 'REGN', 'ROST', 'SBUX', 'SHPG', 'SIRI', 'SNPS', 'STX', 'SWKS', 'SYMC', 'TMUS', 'TSLA', 'TTWO', 'TXN', 'ULTA', 'VOD', 'VRSK', 'VRTX', 'WBA', 'WDAY', 'WDC', 'WYNN', 'XLNX', 'XRAY']\n",
    "'''  # noqa\n",
    "\n",
    "\n",
    "class AlgoBuySPYDip(BaseAlgo):\n",
    "    def init(self):\n",
    "        self.position_size = 100\n",
    "        self.max_positions = 5\n",
    "\n",
    "    def get_order(self):\n",
    "        '''Calculate the scores within the universe to build the optimal\n",
    "        portfolio as of today, and extract orders to transition from our\n",
    "        current portfolio to the desired state.\n",
    "        '''\n",
    "\n",
    "        # get data\n",
    "        NY = 'America/New_York'\n",
    "        now = pd.Timestamp.now(tz=NY)\n",
    "        end_dt = now\n",
    "        if now.time() >= pd.Timestamp('09:30', tz=NY).time():\n",
    "            end_dt = now - \\\n",
    "                     pd.Timedelta(now.strftime('%H:%M:%S')) - pd.Timedelta('1 minute')\n",
    "\n",
    "        start_dt = end_dt - pd.Timedelta('50 days')\n",
    "        price_df = self.data.get_prices(Universe, \"day\", 50)\n",
    "\n",
    "        # rank the stocks based on the indicators.\n",
    "        ranked = self._calc_scores(price_df)\n",
    "        to_buy = set()\n",
    "        to_sell = set()\n",
    "        # take the top one twentieth out of ranking,\n",
    "        # excluding stocks too expensive to buy a share\n",
    "        for symbol, _ in ranked[:len(ranked) // 20]:\n",
    "            price = float(price_df[symbol].close.values[-1])\n",
    "            if price > float(self.account.get_cash()):\n",
    "                continue\n",
    "            to_buy.add(symbol)\n",
    "\n",
    "        # now get the current positions and see what to buy,\n",
    "        # what to sell to transition to today's desired portfolio.\n",
    "        positions = self.account.get_positions()\n",
    "        logger.info(positions)\n",
    "        holdings = {p.symbol: p for p in positions}\n",
    "        holding_symbol = set(holdings.keys())\n",
    "        to_sell = holding_symbol - to_buy\n",
    "        to_buy = to_buy - holding_symbol\n",
    "        orders = []\n",
    "\n",
    "        # if a stock is in the portfolio, and not in the desired\n",
    "        # portfolio, sell it\n",
    "        for symbol in to_sell:\n",
    "            shares = holdings[symbol].qty\n",
    "            orders.append(Order(symbol=symbol, qty=shares, side='sell'))\n",
    "            logger.info(f'order(sell): {symbol} for {shares}')\n",
    "\n",
    "        # likewise, if the portfoio is missing stocks from the\n",
    "        # desired portfolio, buy them. We sent a limit for the total\n",
    "        # position size so that we don't end up holding too many positions.\n",
    "        max_to_buy = self.max_positions - (len(positions) - len(to_sell))\n",
    "        for symbol in to_buy:\n",
    "            if max_to_buy <= 0:\n",
    "                break\n",
    "            shares = self.position_size // float(price_df[symbol].close.values[-1])\n",
    "            if shares == 0.0:\n",
    "                continue\n",
    "            orders.append(Order(symbol=symbol, qty=shares, side='buy'))\n",
    "            logger.info(f'order(buy): {symbol} for {shares}')\n",
    "            max_to_buy -= 1\n",
    "        return orders\n",
    "\n",
    "    def _calc_scores(self, price_df, dayindex=-1):\n",
    "        '''Calculate scores based on the indicator and\n",
    "        return the sorted result.\n",
    "        '''\n",
    "        diffs = {}\n",
    "        param = 10\n",
    "        for symbol in price_df.columns.levels[0]:\n",
    "            df = price_df[symbol]\n",
    "            if len(df.close.values) <= param:\n",
    "                continue\n",
    "            ema = df.close.ewm(span=param).mean()[dayindex]\n",
    "            last = df.close.values[dayindex]\n",
    "            diff = (last - ema) / last\n",
    "            diffs[symbol] = diff\n",
    "        return sorted(diffs.items(), key=lambda x: x[1])\n"
   ]
  },
  {
   "cell_type": "code",
   "execution_count": 9,
   "metadata": {},
   "outputs": [
    {
     "name": "stderr",
     "output_type": "stream",
     "text": [
      "logger - 2019-08-10 19:10:55,570 - goquant - INFO - []\n",
      "INFO:goquant:[]\n",
      "logger - 2019-08-10 19:10:55,575 - goquant - INFO - order(buy): FITB for 3.0\n",
      "INFO:goquant:order(buy): FITB for 3.0\n",
      "logger - 2019-08-10 19:10:55,581 - goquant - INFO - order(buy): AES for 6.0\n",
      "INFO:goquant:order(buy): AES for 6.0\n",
      "logger - 2019-08-10 19:10:55,584 - goquant - INFO - order(buy): APH for 1.0\n",
      "INFO:goquant:order(buy): APH for 1.0\n",
      "logger - 2019-08-10 19:10:55,589 - goquant - INFO - order(buy): DVN for 4.0\n",
      "INFO:goquant:order(buy): DVN for 4.0\n",
      "logger - 2019-08-10 19:10:55,599 - goquant - INFO - order(buy): ALLE for 1.0\n",
      "INFO:goquant:order(buy): ALLE for 1.0\n"
     ]
    },
    {
     "name": "stdout",
     "output_type": "stream",
     "text": [
      "[<entity.order.Order object at 0x11c816048>, <entity.order.Order object at 0x11c82b668>, <entity.order.Order object at 0x11bb13668>, <entity.order.Order object at 0x11bb13358>, <entity.order.Order object at 0x11bb13470>]\n"
     ]
    }
   ],
   "source": [
    "algo = AlgoBuySPYDip()\n",
    "algo.init()\n",
    "orders = algo.get_order()\n",
    "print(orders)"
   ]
  },
  {
   "cell_type": "markdown",
   "metadata": {},
   "source": [
    "## 2. backtesting algo"
   ]
  },
  {
   "cell_type": "code",
   "execution_count": null,
   "metadata": {
    "collapsed": true
   },
   "outputs": [],
   "source": []
  }
 ],
 "metadata": {
  "kernelspec": {
   "display_name": "goquant",
   "language": "python",
   "name": "goquant"
  },
  "language_info": {
   "codemirror_mode": {
    "name": "ipython",
    "version": 3
   },
   "file_extension": ".py",
   "mimetype": "text/x-python",
   "name": "python",
   "nbconvert_exporter": "python",
   "pygments_lexer": "ipython3",
   "version": "3.7.3"
  }
 },
 "nbformat": 4,
 "nbformat_minor": 2
}
